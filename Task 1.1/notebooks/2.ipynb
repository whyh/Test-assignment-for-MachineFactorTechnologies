{
 "cells": [
  {
   "cell_type": "markdown",
   "source": [
    "## Problem - \"Average Dollar Volume\"\n",
    "Write a SQL query to calculate the average dollar volume (`dollar volume = Adj Close * Volume`) in February 2019\n",
    "What is the average dollar volume in February 2019?"
   ],
   "metadata": {
    "collapsed": false
   }
  },
  {
   "cell_type": "code",
   "execution_count": 5,
   "outputs": [],
   "source": [
    "%run notebooks/utils.ipynb"
   ],
   "metadata": {
    "collapsed": false
   }
  },
  {
   "cell_type": "markdown",
   "source": [
    "## Solution #1\n",
    "\n",
    "For stocks in `bars_1` table"
   ],
   "metadata": {
    "collapsed": false
   }
  },
  {
   "cell_type": "code",
   "execution_count": 6,
   "outputs": [
    {
     "data": {
      "text/plain": "   avg_dolar_volume\n0      3.019755e+08",
      "text/html": "<div>\n<style scoped>\n    .dataframe tbody tr th:only-of-type {\n        vertical-align: middle;\n    }\n\n    .dataframe tbody tr th {\n        vertical-align: top;\n    }\n\n    .dataframe thead th {\n        text-align: right;\n    }\n</style>\n<table border=\"1\" class=\"dataframe\">\n  <thead>\n    <tr style=\"text-align: right;\">\n      <th></th>\n      <th>avg_dolar_volume</th>\n    </tr>\n  </thead>\n  <tbody>\n    <tr>\n      <th>0</th>\n      <td>3.019755e+08</td>\n    </tr>\n  </tbody>\n</table>\n</div>"
     },
     "metadata": {},
     "output_type": "display_data"
    }
   ],
   "source": [
    "execute(\"\"\"\n",
    "SELECT AVG(adj_close * volume) AS avg_dolar_volume FROM bars_1\n",
    "    WHERE EXTRACT(YEAR FROM \"date\") = 2019 AND EXTRACT(MONTH FROM \"date\") = 2\n",
    "\"\"\")"
   ],
   "metadata": {
    "collapsed": false
   }
  },
  {
   "cell_type": "markdown",
   "source": [
    "## Solution #2\n",
    "For all stocks (across `bars_1` and `bars_2` tables)"
   ],
   "metadata": {
    "collapsed": false
   }
  },
  {
   "cell_type": "code",
   "execution_count": 7,
   "outputs": [
    {
     "data": {
      "text/plain": "   avg_dolar_volume\n0      3.231216e+08",
      "text/html": "<div>\n<style scoped>\n    .dataframe tbody tr th:only-of-type {\n        vertical-align: middle;\n    }\n\n    .dataframe tbody tr th {\n        vertical-align: top;\n    }\n\n    .dataframe thead th {\n        text-align: right;\n    }\n</style>\n<table border=\"1\" class=\"dataframe\">\n  <thead>\n    <tr style=\"text-align: right;\">\n      <th></th>\n      <th>avg_dolar_volume</th>\n    </tr>\n  </thead>\n  <tbody>\n    <tr>\n      <th>0</th>\n      <td>3.231216e+08</td>\n    </tr>\n  </tbody>\n</table>\n</div>"
     },
     "metadata": {},
     "output_type": "display_data"
    }
   ],
   "source": [
    "execute(\"\"\"\n",
    "WITH bars AS (\n",
    "    SELECT \"date\", adj_close, volume FROM bars_1\n",
    "    UNION\n",
    "    SELECT \"date\", adj_close, volume FROM bars_2\n",
    ")\n",
    "SELECT AVG(bars.adj_close * bars.volume) AS avg_dolar_volume FROM bars\n",
    "    WHERE EXTRACT(YEAR FROM bars.\"date\") = 2019 AND EXTRACT(MONTH FROM bars.\"date\") = 2\n",
    "\"\"\")"
   ],
   "metadata": {
    "collapsed": false
   }
  },
  {
   "cell_type": "markdown",
   "source": [
    "## Solution #3\n",
    "\n",
    "A bit more optimized solution for all stocks"
   ],
   "metadata": {
    "collapsed": false
   }
  },
  {
   "cell_type": "code",
   "execution_count": 8,
   "outputs": [
    {
     "data": {
      "text/plain": "   avg_dolar_volume\n0      3.231216e+08",
      "text/html": "<div>\n<style scoped>\n    .dataframe tbody tr th:only-of-type {\n        vertical-align: middle;\n    }\n\n    .dataframe tbody tr th {\n        vertical-align: top;\n    }\n\n    .dataframe thead th {\n        text-align: right;\n    }\n</style>\n<table border=\"1\" class=\"dataframe\">\n  <thead>\n    <tr style=\"text-align: right;\">\n      <th></th>\n      <th>avg_dolar_volume</th>\n    </tr>\n  </thead>\n  <tbody>\n    <tr>\n      <th>0</th>\n      <td>3.231216e+08</td>\n    </tr>\n  </tbody>\n</table>\n</div>"
     },
     "metadata": {},
     "output_type": "display_data"
    }
   ],
   "source": [
    "execute(\"\"\"\n",
    "WITH bars AS (\n",
    "    SELECT b1.symbol, b1.\"date\", b1.adj_close, b1.volume FROM bars_1 AS b1\n",
    "        WHERE EXTRACT(YEAR FROM b1.\"date\") = 2019 AND EXTRACT(MONTH FROM b1.\"date\") = 2\n",
    "    UNION\n",
    "    SELECT b2.symbol, b2.\"date\", b2.adj_close, b2.volume FROM bars_2 AS b2\n",
    "        WHERE EXTRACT(YEAR FROM b2.\"date\") = 2019 AND EXTRACT(MONTH FROM b2.\"date\") = 2\n",
    ")\n",
    "SELECT AVG(bars.adj_close * bars.volume) AS avg_dolar_volume FROM bars\n",
    "\"\"\")"
   ],
   "metadata": {
    "collapsed": false
   }
  }
 ],
 "metadata": {
  "kernelspec": {
   "display_name": "Python 3",
   "language": "python",
   "name": "python3"
  },
  "language_info": {
   "codemirror_mode": {
    "name": "ipython",
    "version": 2
   },
   "file_extension": ".py",
   "mimetype": "text/x-python",
   "name": "python",
   "nbconvert_exporter": "python",
   "pygments_lexer": "ipython2",
   "version": "2.7.6"
  }
 },
 "nbformat": 4,
 "nbformat_minor": 0
}
