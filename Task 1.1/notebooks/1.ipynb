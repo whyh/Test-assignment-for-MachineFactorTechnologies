{
 "cells": [
  {
   "cell_type": "markdown",
   "metadata": {},
   "source": [
    "## Problem - \"Healthy stocks\"\n",
    "What is the % of symbols from table `bars_1` for which the following condition is satisfied:\n",
    "`Adj.Close(t) > Average(Adj_close{t-40:t})` for at least one t in 2019?"
   ]
  },
  {
   "cell_type": "code",
   "execution_count": 4,
   "metadata": {
    "collapsed": false,
    "jupyter": {
     "outputs_hidden": false
    }
   },
   "outputs": [],
   "source": [
    "%run /home/jovyan/notebooks/utils.ipynb"
   ]
  },
  {
   "cell_type": "markdown",
   "metadata": {},
   "source": [
    "## Solution"
   ]
  },
  {
   "cell_type": "code",
   "execution_count": 5,
   "metadata": {
    "collapsed": false,
    "jupyter": {
     "outputs_hidden": false
    }
   },
   "outputs": [
    {
     "data": {
      "text/plain": "   healthy_stocks_pct\n0           99.470899",
      "text/html": "<div>\n<style scoped>\n    .dataframe tbody tr th:only-of-type {\n        vertical-align: middle;\n    }\n\n    .dataframe tbody tr th {\n        vertical-align: top;\n    }\n\n    .dataframe thead th {\n        text-align: right;\n    }\n</style>\n<table border=\"1\" class=\"dataframe\">\n  <thead>\n    <tr style=\"text-align: right;\">\n      <th></th>\n      <th>healthy_stocks_pct</th>\n    </tr>\n  </thead>\n  <tbody>\n    <tr>\n      <th>0</th>\n      <td>99.470899</td>\n    </tr>\n  </tbody>\n</table>\n</div>"
     },
     "metadata": {},
     "output_type": "display_data"
    }
   ],
   "source": [
    "execute(\"\"\"\n",
    "WITH data AS (\n",
    "    SELECT symbol, adj_close, AVG(adj_close) OVER (\n",
    "        PARTITION BY symbol ORDER BY \"date\" ROWS BETWEEN 40 PRECEDING AND CURRENT ROW\n",
    "    ) AS historic_adj_close\n",
    "    FROM bars_1 WHERE EXTRACT(YEAR FROM \"date\") = 2019\n",
    ")\n",
    "SELECT (\n",
    "    COUNT(DISTINCT symbol)::NUMERIC\n",
    "    / NULLIF((SELECT COUNT(DISTINCT symbol)::NUMERIC FROM bars_1), 0)\n",
    "    * 100::NUMERIC\n",
    ") AS healthy_stocks_pct\n",
    "FROM data WHERE adj_close > historic_adj_close\n",
    "\"\"\")"
   ]
  },
  {
   "cell_type": "markdown",
   "metadata": {},
   "source": [
    "## Considerations\n",
    "Data from the following years includes one more stock - CARR (first record 2020-03-24 as it had separated and became an independent company)\n",
    "\n",
    "If we want to correct for this, we have to divide not by the number of all unique symbols but only by the number of unique symbols from 2019"
   ]
  },
  {
   "cell_type": "code",
   "execution_count": 6,
   "metadata": {
    "collapsed": false,
    "jupyter": {
     "outputs_hidden": false
    }
   },
   "outputs": [
    {
     "data": {
      "text/plain": "   healthy_stocks_pct\n0               100.0",
      "text/html": "<div>\n<style scoped>\n    .dataframe tbody tr th:only-of-type {\n        vertical-align: middle;\n    }\n\n    .dataframe tbody tr th {\n        vertical-align: top;\n    }\n\n    .dataframe thead th {\n        text-align: right;\n    }\n</style>\n<table border=\"1\" class=\"dataframe\">\n  <thead>\n    <tr style=\"text-align: right;\">\n      <th></th>\n      <th>healthy_stocks_pct</th>\n    </tr>\n  </thead>\n  <tbody>\n    <tr>\n      <th>0</th>\n      <td>100.0</td>\n    </tr>\n  </tbody>\n</table>\n</div>"
     },
     "metadata": {},
     "output_type": "display_data"
    }
   ],
   "source": [
    "execute(\"\"\"\n",
    "WITH data AS (\n",
    "    SELECT symbol, adj_close, AVG(adj_close) OVER (\n",
    "        PARTITION BY symbol ORDER BY \"date\" ROWS BETWEEN 40 PRECEDING AND CURRENT ROW\n",
    "    ) AS historic_adj_close\n",
    "    FROM bars_1 WHERE EXTRACT(YEAR FROM \"date\") = 2019\n",
    ")\n",
    "SELECT (\n",
    "    COUNT(DISTINCT symbol)::NUMERIC\n",
    "    / NULLIF((\n",
    "        SELECT COUNT(DISTINCT symbol)::NUMERIC FROM bars_1 WHERE EXTRACT(YEAR FROM \"date\") = 2019\n",
    "    ), 0)\n",
    "    * 100::NUMERIC\n",
    ") AS healthy_stocks_pct\n",
    "FROM data WHERE adj_close > historic_adj_close\n",
    "\"\"\")"
   ]
  }
 ],
 "metadata": {
  "kernelspec": {
   "display_name": "Python 3 (ipykernel)",
   "language": "python",
   "name": "python3"
  },
  "language_info": {
   "codemirror_mode": {
    "name": "ipython",
    "version": 3
   },
   "file_extension": ".py",
   "mimetype": "text/x-python",
   "name": "python",
   "nbconvert_exporter": "python",
   "pygments_lexer": "ipython3",
   "version": "3.10.8"
  }
 },
 "nbformat": 4,
 "nbformat_minor": 4
}
