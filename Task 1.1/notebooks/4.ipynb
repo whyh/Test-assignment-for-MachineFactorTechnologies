{
 "cells": [
  {
   "cell_type": "markdown",
   "metadata": {},
   "source": [
    "# Problem - \"Average Absolute Daily Percent Change\"\n",
    "For each stock, calculate Average Absolute Daily Percent Change\n",
    "`Average Absolute Daily Percent Change = Mean[Abs(Daily % changes for a stock)]`"
   ]
  },
  {
   "cell_type": "code",
   "execution_count": 4,
   "metadata": {
    "collapsed": false,
    "jupyter": {
     "outputs_hidden": false
    }
   },
   "outputs": [],
   "source": [
    "%run notebooks/utils.ipynb"
   ]
  },
  {
   "cell_type": "markdown",
   "metadata": {},
   "source": [
    "## Considerations\n",
    "I had assumed the `daily change` is `adj_close(t) - adj_close(t - 1)`\n",
    "\n",
    "These solutions do no account for missing data points / market holidays"
   ]
  },
  {
   "cell_type": "markdown",
   "metadata": {},
   "source": [
    "## Solution #1\n",
    "For stocks in `bars_1` table"
   ]
  },
  {
   "cell_type": "code",
   "execution_count": 5,
   "metadata": {
    "collapsed": false,
    "jupyter": {
     "outputs_hidden": false
    }
   },
   "outputs": [
    {
     "data": {
      "text/plain": "    symbol  avg_abs_daily_change_pct\n0        A                  1.684480\n1      AAL                  3.165402\n2      AAP                  1.748737\n3     AAPL                  1.746331\n4     ABBV                  1.649988\n..     ...                       ...\n184    YUM                  1.376771\n185    ZBH                  1.503160\n186   ZBRA                  1.998376\n187   ZION                  2.130684\n188    ZTS                  1.458716\n\n[189 rows x 2 columns]",
      "text/html": "<div>\n<style scoped>\n    .dataframe tbody tr th:only-of-type {\n        vertical-align: middle;\n    }\n\n    .dataframe tbody tr th {\n        vertical-align: top;\n    }\n\n    .dataframe thead th {\n        text-align: right;\n    }\n</style>\n<table border=\"1\" class=\"dataframe\">\n  <thead>\n    <tr style=\"text-align: right;\">\n      <th></th>\n      <th>symbol</th>\n      <th>avg_abs_daily_change_pct</th>\n    </tr>\n  </thead>\n  <tbody>\n    <tr>\n      <th>0</th>\n      <td>A</td>\n      <td>1.684480</td>\n    </tr>\n    <tr>\n      <th>1</th>\n      <td>AAL</td>\n      <td>3.165402</td>\n    </tr>\n    <tr>\n      <th>2</th>\n      <td>AAP</td>\n      <td>1.748737</td>\n    </tr>\n    <tr>\n      <th>3</th>\n      <td>AAPL</td>\n      <td>1.746331</td>\n    </tr>\n    <tr>\n      <th>4</th>\n      <td>ABBV</td>\n      <td>1.649988</td>\n    </tr>\n    <tr>\n      <th>...</th>\n      <td>...</td>\n      <td>...</td>\n    </tr>\n    <tr>\n      <th>184</th>\n      <td>YUM</td>\n      <td>1.376771</td>\n    </tr>\n    <tr>\n      <th>185</th>\n      <td>ZBH</td>\n      <td>1.503160</td>\n    </tr>\n    <tr>\n      <th>186</th>\n      <td>ZBRA</td>\n      <td>1.998376</td>\n    </tr>\n    <tr>\n      <th>187</th>\n      <td>ZION</td>\n      <td>2.130684</td>\n    </tr>\n    <tr>\n      <th>188</th>\n      <td>ZTS</td>\n      <td>1.458716</td>\n    </tr>\n  </tbody>\n</table>\n<p>189 rows × 2 columns</p>\n</div>"
     },
     "metadata": {},
     "output_type": "display_data"
    }
   ],
   "source": [
    "execute(\"\"\"\n",
    "WITH data AS (\n",
    "    SELECT symbol, adj_close,\n",
    "        LAG(adj_close) OVER (PARTITION BY symbol ORDER BY \"date\") AS prev_adj_close\n",
    "    FROM bars_1\n",
    ")\n",
    "SELECT symbol, AVG(ABS((adj_close - prev_adj_close) / prev_adj_close * 100::DECIMAL)) AS avg_abs_daily_change_pct\n",
    "FROM data GROUP BY symbol\n",
    "\"\"\")"
   ]
  },
  {
   "cell_type": "markdown",
   "metadata": {},
   "source": [
    "## Solution #2\n",
    "For all stocks (across `bars_1` and `bars_2` tables)"
   ]
  },
  {
   "cell_type": "code",
   "execution_count": 6,
   "metadata": {
    "collapsed": false,
    "jupyter": {
     "outputs_hidden": false
    }
   },
   "outputs": [
    {
     "data": {
      "text/plain": "    symbol  avg_abs_daily_change_pct\n0        A                  1.424314\n1      AAL                  2.592303\n2      AAP                  1.420407\n3     AAPL                  1.442739\n4     ABBV                  1.350091\n..     ...                       ...\n184    YUM                  1.166595\n185    ZBH                  1.256789\n186   ZBRA                  1.657055\n187   ZION                  1.785867\n188    ZTS                  1.198845\n\n[189 rows x 2 columns]",
      "text/html": "<div>\n<style scoped>\n    .dataframe tbody tr th:only-of-type {\n        vertical-align: middle;\n    }\n\n    .dataframe tbody tr th {\n        vertical-align: top;\n    }\n\n    .dataframe thead th {\n        text-align: right;\n    }\n</style>\n<table border=\"1\" class=\"dataframe\">\n  <thead>\n    <tr style=\"text-align: right;\">\n      <th></th>\n      <th>symbol</th>\n      <th>avg_abs_daily_change_pct</th>\n    </tr>\n  </thead>\n  <tbody>\n    <tr>\n      <th>0</th>\n      <td>A</td>\n      <td>1.424314</td>\n    </tr>\n    <tr>\n      <th>1</th>\n      <td>AAL</td>\n      <td>2.592303</td>\n    </tr>\n    <tr>\n      <th>2</th>\n      <td>AAP</td>\n      <td>1.420407</td>\n    </tr>\n    <tr>\n      <th>3</th>\n      <td>AAPL</td>\n      <td>1.442739</td>\n    </tr>\n    <tr>\n      <th>4</th>\n      <td>ABBV</td>\n      <td>1.350091</td>\n    </tr>\n    <tr>\n      <th>...</th>\n      <td>...</td>\n      <td>...</td>\n    </tr>\n    <tr>\n      <th>184</th>\n      <td>YUM</td>\n      <td>1.166595</td>\n    </tr>\n    <tr>\n      <th>185</th>\n      <td>ZBH</td>\n      <td>1.256789</td>\n    </tr>\n    <tr>\n      <th>186</th>\n      <td>ZBRA</td>\n      <td>1.657055</td>\n    </tr>\n    <tr>\n      <th>187</th>\n      <td>ZION</td>\n      <td>1.785867</td>\n    </tr>\n    <tr>\n      <th>188</th>\n      <td>ZTS</td>\n      <td>1.198845</td>\n    </tr>\n  </tbody>\n</table>\n<p>189 rows × 2 columns</p>\n</div>"
     },
     "metadata": {},
     "output_type": "display_data"
    }
   ],
   "source": [
    "execute(\"\"\"\n",
    "WITH data AS (\n",
    "    SELECT symbol, adj_close, LAG(adj_close) OVER (PARTITION BY symbol ORDER BY \"date\") AS prev_adj_close\n",
    "    FROM (\n",
    "        SELECT symbol, \"date\", adj_close FROM bars_1\n",
    "        UNION\n",
    "        SELECT symbol, \"date\", adj_close FROM bars_2\n",
    "    ) AS bars\n",
    ")\n",
    "SELECT symbol, AVG(ABS((adj_close - prev_adj_close) / prev_adj_close * 100::DECIMAL)) AS avg_abs_daily_change_pct\n",
    "FROM data GROUP BY symbol\n",
    "\"\"\")"
   ]
  }
 ],
 "metadata": {
  "kernelspec": {
   "display_name": "Python 3 (ipykernel)",
   "language": "python",
   "name": "python3"
  },
  "language_info": {
   "codemirror_mode": {
    "name": "ipython",
    "version": 3
   },
   "file_extension": ".py",
   "mimetype": "text/x-python",
   "name": "python",
   "nbconvert_exporter": "python",
   "pygments_lexer": "ipython3",
   "version": "3.10.8"
  }
 },
 "nbformat": 4,
 "nbformat_minor": 4
}
