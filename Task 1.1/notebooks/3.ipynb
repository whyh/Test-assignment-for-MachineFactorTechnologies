{
 "cells": [
  {
   "cell_type": "markdown",
   "metadata": {},
   "source": [
    "# Problem - \"Positive Volume Ladder\"\n",
    "Rank stocks in 2015 by Positive Volume in ascending order.\n",
    "`Positive Volume(t) = Volume(t) if Adj.Close(t) >= Adj.Close(t-1) else 0`"
   ]
  },
  {
   "cell_type": "code",
   "execution_count": 4,
   "metadata": {
    "collapsed": false,
    "jupyter": {
     "outputs_hidden": false
    }
   },
   "outputs": [],
   "source": [
    "%run notebooks/utils.ipynb"
   ]
  },
  {
   "cell_type": "markdown",
   "metadata": {},
   "source": [
    "## Solution #1\n",
    "For stocks in `bars_1` table"
   ]
  },
  {
   "cell_type": "code",
   "execution_count": 5,
   "metadata": {
    "collapsed": false,
    "jupyter": {
     "outputs_hidden": false
    }
   },
   "outputs": [
    {
     "data": {
      "text/plain": "    symbol  positive_volume_rank\n0     AMCR                     1\n1      BIO                     2\n2      CZR                     3\n3     TECH                     4\n4      TDY                     5\n..     ...                   ...\n181   TSLA                   182\n182      T                   183\n183    BAC                   184\n184   AMZN                   185\n185   AAPL                   186\n\n[186 rows x 2 columns]",
      "text/html": "<div>\n<style scoped>\n    .dataframe tbody tr th:only-of-type {\n        vertical-align: middle;\n    }\n\n    .dataframe tbody tr th {\n        vertical-align: top;\n    }\n\n    .dataframe thead th {\n        text-align: right;\n    }\n</style>\n<table border=\"1\" class=\"dataframe\">\n  <thead>\n    <tr style=\"text-align: right;\">\n      <th></th>\n      <th>symbol</th>\n      <th>positive_volume_rank</th>\n    </tr>\n  </thead>\n  <tbody>\n    <tr>\n      <th>0</th>\n      <td>AMCR</td>\n      <td>1</td>\n    </tr>\n    <tr>\n      <th>1</th>\n      <td>BIO</td>\n      <td>2</td>\n    </tr>\n    <tr>\n      <th>2</th>\n      <td>CZR</td>\n      <td>3</td>\n    </tr>\n    <tr>\n      <th>3</th>\n      <td>TECH</td>\n      <td>4</td>\n    </tr>\n    <tr>\n      <th>4</th>\n      <td>TDY</td>\n      <td>5</td>\n    </tr>\n    <tr>\n      <th>...</th>\n      <td>...</td>\n      <td>...</td>\n    </tr>\n    <tr>\n      <th>181</th>\n      <td>TSLA</td>\n      <td>182</td>\n    </tr>\n    <tr>\n      <th>182</th>\n      <td>T</td>\n      <td>183</td>\n    </tr>\n    <tr>\n      <th>183</th>\n      <td>BAC</td>\n      <td>184</td>\n    </tr>\n    <tr>\n      <th>184</th>\n      <td>AMZN</td>\n      <td>185</td>\n    </tr>\n    <tr>\n      <th>185</th>\n      <td>AAPL</td>\n      <td>186</td>\n    </tr>\n  </tbody>\n</table>\n<p>186 rows × 2 columns</p>\n</div>"
     },
     "metadata": {},
     "output_type": "display_data"
    }
   ],
   "source": [
    "execute(\"\"\"\n",
    "WITH data AS (\n",
    "    SELECT symbol,\n",
    "        CASE WHEN adj_close >= LAG(adj_close) OVER (PARTITION BY symbol ORDER BY \"date\") THEN volume ELSE 0 END\n",
    "        AS positive_volume\n",
    "    FROM bars_1 WHERE EXTRACT(YEAR FROM \"date\") = 2015\n",
    ")\n",
    "SELECT symbol, RANK() OVER (ORDER BY SUM(positive_volume)) AS positive_volume_rank FROM data GROUP BY symbol\n",
    "\"\"\")"
   ]
  },
  {
   "cell_type": "markdown",
   "metadata": {},
   "source": [
    "## Solution #2\n",
    "For all stocks (across `bars_1` and `bars_2` tables)"
   ]
  },
  {
   "cell_type": "code",
   "execution_count": 6,
   "metadata": {
    "collapsed": false,
    "jupyter": {
     "outputs_hidden": false
    }
   },
   "outputs": [
    {
     "data": {
      "text/plain": "    symbol  positive_volume_rank\n0     AMCR                     1\n1      BIO                     2\n2      CZR                     3\n3      TDY                     4\n4     TECH                     5\n..     ...                   ...\n181   TSLA                   182\n182      T                   183\n183    BAC                   184\n184   AMZN                   185\n185   AAPL                   186\n\n[186 rows x 2 columns]",
      "text/html": "<div>\n<style scoped>\n    .dataframe tbody tr th:only-of-type {\n        vertical-align: middle;\n    }\n\n    .dataframe tbody tr th {\n        vertical-align: top;\n    }\n\n    .dataframe thead th {\n        text-align: right;\n    }\n</style>\n<table border=\"1\" class=\"dataframe\">\n  <thead>\n    <tr style=\"text-align: right;\">\n      <th></th>\n      <th>symbol</th>\n      <th>positive_volume_rank</th>\n    </tr>\n  </thead>\n  <tbody>\n    <tr>\n      <th>0</th>\n      <td>AMCR</td>\n      <td>1</td>\n    </tr>\n    <tr>\n      <th>1</th>\n      <td>BIO</td>\n      <td>2</td>\n    </tr>\n    <tr>\n      <th>2</th>\n      <td>CZR</td>\n      <td>3</td>\n    </tr>\n    <tr>\n      <th>3</th>\n      <td>TDY</td>\n      <td>4</td>\n    </tr>\n    <tr>\n      <th>4</th>\n      <td>TECH</td>\n      <td>5</td>\n    </tr>\n    <tr>\n      <th>...</th>\n      <td>...</td>\n      <td>...</td>\n    </tr>\n    <tr>\n      <th>181</th>\n      <td>TSLA</td>\n      <td>182</td>\n    </tr>\n    <tr>\n      <th>182</th>\n      <td>T</td>\n      <td>183</td>\n    </tr>\n    <tr>\n      <th>183</th>\n      <td>BAC</td>\n      <td>184</td>\n    </tr>\n    <tr>\n      <th>184</th>\n      <td>AMZN</td>\n      <td>185</td>\n    </tr>\n    <tr>\n      <th>185</th>\n      <td>AAPL</td>\n      <td>186</td>\n    </tr>\n  </tbody>\n</table>\n<p>186 rows × 2 columns</p>\n</div>"
     },
     "metadata": {},
     "output_type": "display_data"
    }
   ],
   "source": [
    "execute(\"\"\"\n",
    "WITH data AS (\n",
    "    SELECT symbol,\n",
    "        CASE WHEN adj_close >= LAG(adj_close) OVER (PARTITION BY symbol ORDER BY \"date\") THEN volume ELSE 0 END\n",
    "        AS positive_volume\n",
    "        FROM (\n",
    "            SELECT symbol, \"date\", adj_close, volume FROM bars_1\n",
    "            UNION\n",
    "            SELECT symbol, \"date\", adj_close, volume FROM bars_2\n",
    "        ) AS bars\n",
    "        WHERE EXTRACT(YEAR FROM \"date\") = 2015\n",
    ")\n",
    "SELECT symbol, RANK() OVER (ORDER BY SUM(positive_volume)) AS positive_volume_rank FROM data GROUP BY symbol\n",
    "\"\"\")"
   ]
  }
 ],
 "metadata": {
  "kernelspec": {
   "display_name": "Python 3 (ipykernel)",
   "language": "python",
   "name": "python3"
  },
  "language_info": {
   "codemirror_mode": {
    "name": "ipython",
    "version": 3
   },
   "file_extension": ".py",
   "mimetype": "text/x-python",
   "name": "python",
   "nbconvert_exporter": "python",
   "pygments_lexer": "ipython3",
   "version": "3.10.8"
  }
 },
 "nbformat": 4,
 "nbformat_minor": 4
}
