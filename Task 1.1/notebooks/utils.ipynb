{
 "cells": [
  {
   "cell_type": "markdown",
   "metadata": {},
   "source": [
    "# Helper function to execute SQL query and display results as a table\n",
    "Note that Pandas is only used to display results of the query"
   ]
  },
  {
   "cell_type": "code",
   "execution_count": 2,
   "metadata": {
    "collapsed": false,
    "jupyter": {
     "outputs_hidden": false
    }
   },
   "outputs": [],
   "source": [
    "import os\n",
    "\n",
    "from IPython.display import display\n",
    "import pandas.io.sql as psql\n",
    "import sqlalchemy\n",
    "\n",
    "\n",
    "def execute(query: str) -> None:\n",
    "    with sqlalchemy.create_engine(os.environ[\"DB_URL\"]).connect() as db:\n",
    "        df = psql.read_sql(query, db)\n",
    "    display(df)"
   ]
  }
 ],
 "metadata": {
  "kernelspec": {
   "display_name": "Python 3 (ipykernel)",
   "language": "python",
   "name": "python3"
  },
  "language_info": {
   "codemirror_mode": {
    "name": "ipython",
    "version": 3
   },
   "file_extension": ".py",
   "mimetype": "text/x-python",
   "name": "python",
   "nbconvert_exporter": "python",
   "pygments_lexer": "ipython3",
   "version": "3.10.8"
  }
 },
 "nbformat": 4,
 "nbformat_minor": 4
}
